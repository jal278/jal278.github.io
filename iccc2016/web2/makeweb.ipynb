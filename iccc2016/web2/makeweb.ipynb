{
 "cells": [
  {
   "cell_type": "code",
   "execution_count": 1,
   "metadata": {
    "collapsed": false
   },
   "outputs": [
    {
     "name": "stdout",
     "output_type": "stream",
     "text": [
      "1000\n"
     ]
    }
   ],
   "source": [
    "import mako\n",
    "directory = \"img_noopt\"\n",
    "lines=open(\"%s/data.csv\" % directory).read().split(\"\\n\")[:-1]\n",
    "\n",
    "print len(lines)"
   ]
  },
  {
   "cell_type": "code",
   "execution_count": 2,
   "metadata": {
    "collapsed": true
   },
   "outputs": [],
   "source": [
    "line=[ x.split(\",\") for x in lines]"
   ]
  },
  {
   "cell_type": "code",
   "execution_count": 3,
   "metadata": {
    "collapsed": false
   },
   "outputs": [
    {
     "name": "stdout",
     "output_type": "stream",
     "text": [
      "(0.9999999602636667, 604, [1.0, 0.999999880791, 1.0, 0.999999880791, 1.0, 1.0], 'hourglass')\n"
     ]
    }
   ],
   "source": [
    "db=[]\n",
    "for l in line:\n",
    "    idx = int(l[0])\n",
    "    acc = [float(k) for k in l[-6:]]\n",
    "    cat = \" \".join(l[1].split(\" \")[1:])\n",
    "    db.append((sum(acc)/len(acc),idx,acc,cat))\n",
    "db.sort()\n",
    "db.reverse()\n",
    "\n",
    "print db[0]"
   ]
  },
  {
   "cell_type": "code",
   "execution_count": 5,
   "metadata": {
    "collapsed": false
   },
   "outputs": [],
   "source": [
    "step = 50 \n",
    "cnt=0\n",
    "for idx in range(0,1000,step):\n",
    "    html=\"\"\"<html><body>\"\"\"\n",
    "    for x in range(1000/step):\n",
    "        html+=\"<a href='index%d.html'>[%d]</a>\" % (x,x+1)\n",
    "    html+=\"\"\"\\n<table>\"\"\"\n",
    "    html+=\"<tr><th>Rank</th><th>Category</th><th>Avg. Confidence</th>\"\n",
    "    for _ in range(6):\n",
    "        html+=\"<th>Render%d</th>\"%_\n",
    "        html+=\"<th>Confidence</th>\"\n",
    "    html+=\"</tr>\\n\"\n",
    "    for _ in range(step):\n",
    "        n = idx+_\n",
    "        cat = db[n][1]\n",
    "        html+=\"<tr><td>%d</td><td>%s</td><td>%0.2f</td>\" % (n,db[n][-1],db[n][0])\n",
    "        for __ in range(6):\n",
    "            html+=\"<td><a href='%s/%d.ply'><img src='%s/%d-%d.png'></a></td>\"%(directory,cat,directory,cat,__)\n",
    "            html+=\"<td>%0.2f</td>\"%db[n][2][__]\n",
    "    html+=\"</table></body></html>\"\n",
    "    f=open(\"index%d.html\"%cnt,\"w\")\n",
    "    f.write(html)\n",
    "    cnt+=1"
   ]
  },
  {
   "cell_type": "code",
   "execution_count": null,
   "metadata": {
    "collapsed": true
   },
   "outputs": [],
   "source": []
  }
 ],
 "metadata": {
  "kernelspec": {
   "display_name": "Python 2",
   "language": "python",
   "name": "python2"
  },
  "language_info": {
   "codemirror_mode": {
    "name": "ipython",
    "version": 2
   },
   "file_extension": ".py",
   "mimetype": "text/x-python",
   "name": "python",
   "nbconvert_exporter": "python",
   "pygments_lexer": "ipython2",
   "version": "2.7.9"
  }
 },
 "nbformat": 4,
 "nbformat_minor": 0
}
